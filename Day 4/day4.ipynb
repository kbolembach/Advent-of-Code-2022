{
 "cells": [
  {
   "cell_type": "markdown",
   "metadata": {},
   "source": [
    "Some of the pairs have noticed that one of their assignments fully contains the other. For example, 2-8 fully contains 3-7, and 6-6 is fully contained by 4-6. \n",
    "\n",
    "In how many assignment pairs does one range fully contain the other?"
   ]
  },
  {
   "cell_type": "code",
   "execution_count": 13,
   "metadata": {},
   "outputs": [
    {
     "name": "stdout",
     "output_type": "stream",
     "text": [
      "503\n"
     ]
    }
   ],
   "source": [
    "file = open(\"input.txt\", \"r\")\n",
    "contents = file.read().split(\"\\n\")\n",
    "\n",
    "def is_one_contained(set1, set2):\n",
    "    return (set1 | set2 == set1) or (set2 | set1 == set2)\n",
    "\n",
    "count = 0\n",
    "for assignments in contents:\n",
    "    first, second = assignments.split(\",\")\n",
    "    first = [int(x) for x in first.split(\"-\")]\n",
    "    second = [int(x) for x in second.split(\"-\")]\n",
    "    first = set(range(first[0], first[1]+1))\n",
    "    second = set(range(second[0], second[1]+1))\n",
    "    count += 1 if is_one_contained(first, second) else 0\n",
    "    \n",
    "print(count)"
   ]
  },
  {
   "cell_type": "markdown",
   "metadata": {},
   "source": [
    "In how many assignment pairs do the ranges overlap?"
   ]
  },
  {
   "cell_type": "code",
   "execution_count": 15,
   "metadata": {},
   "outputs": [
    {
     "name": "stdout",
     "output_type": "stream",
     "text": [
      "827\n"
     ]
    }
   ],
   "source": [
    "file = open(\"input.txt\", \"r\")\n",
    "contents = file.read().split(\"\\n\")\n",
    "\n",
    "count = 0\n",
    "for assignments in contents:\n",
    "    first, second = assignments.split(\",\")\n",
    "    first = [int(x) for x in first.split(\"-\")]\n",
    "    second = [int(x) for x in second.split(\"-\")]\n",
    "    first = set(range(first[0], first[1]+1))\n",
    "    second = set(range(second[0], second[1]+1))\n",
    "    count += 0 if first & second == set() else 1\n",
    "\n",
    "print(count)"
   ]
  }
 ],
 "metadata": {
  "kernelspec": {
   "display_name": "Python 3.9.5 64-bit",
   "language": "python",
   "name": "python3"
  },
  "language_info": {
   "codemirror_mode": {
    "name": "ipython",
    "version": 3
   },
   "file_extension": ".py",
   "mimetype": "text/x-python",
   "name": "python",
   "nbconvert_exporter": "python",
   "pygments_lexer": "ipython3",
   "version": "3.9.5"
  },
  "orig_nbformat": 4,
  "vscode": {
   "interpreter": {
    "hash": "3144ef0d7184a7ccd9d370622ee835c0d83ef03016b270279d28377670007126"
   }
  }
 },
 "nbformat": 4,
 "nbformat_minor": 2
}

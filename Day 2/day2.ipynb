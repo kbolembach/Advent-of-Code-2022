{
 "cells": [
  {
   "cell_type": "markdown",
   "metadata": {},
   "source": [
    "### Part 1\n",
    "\n",
    "Opponent: A for Rock, B for Paper, and C for Scissors\n",
    "\n",
    "You: X for Rock, Y for Paper, and Z for Scissors\n",
    "\n",
    "The score for a single round is the score for the shape you selected (1 for Rock, 2 for Paper, and 3 for Scissors) plus the score for the outcome of the round (0 if you lost, 3 if the round was a draw, and 6 if you won)."
   ]
  },
  {
   "cell_type": "code",
   "execution_count": 14,
   "metadata": {},
   "outputs": [
    {
     "name": "stdout",
     "output_type": "stream",
     "text": [
      "12645\n"
     ]
    }
   ],
   "source": [
    "file = open(\"input.txt\", \"r\")\n",
    "contents = file.read().split(\"\\n\")\n",
    "rounds = [x.split(\" \") for x in contents]\n",
    "\n",
    "def eval_chosen(letter):\n",
    "    if letter == \"X\":\n",
    "        return 1\n",
    "    if letter == \"Y\":\n",
    "        return 2\n",
    "    return 3\n",
    "\n",
    "def eval_match(match):\n",
    "    you = match[1]\n",
    "    opponent = match[0]\n",
    "    win_dict = {\n",
    "        'X': 'C',\n",
    "        'Y': 'A',\n",
    "        'Z': 'B'\n",
    "    }\n",
    "    tie_dict = {\n",
    "        'X': 'A',\n",
    "        'Y': 'B',\n",
    "        'Z': 'C'\n",
    "    }\n",
    "    if tie_dict[you] == opponent:\n",
    "        return 3\n",
    "    if win_dict[you] == opponent:\n",
    "        return 6\n",
    "    return 0\n",
    "\n",
    "def eval_whole(match):\n",
    "    return eval_chosen(match[1]) + eval_match(match)\n",
    "\n",
    "score = sum([eval_whole(x) for x in rounds])\n",
    "print(score)"
   ]
  },
  {
   "cell_type": "markdown",
   "metadata": {},
   "source": [
    "---\n",
    "### Part 2\n",
    "\n",
    "Opponent: A for Rock, B for Paper, and C for Scissors\n",
    "\n",
    "The score for a single round is the score for the shape you selected (1 for Rock, 2 for Paper, and 3 for Scissors) plus the score for the outcome of the round (0 if you lost, 3 if the round was a draw, and 6 if you won).\n",
    "\n",
    "X means you need to lose, Y means you need to end the round in a draw, and Z means you need to win"
   ]
  },
  {
   "cell_type": "code",
   "execution_count": 28,
   "metadata": {},
   "outputs": [
    {
     "name": "stdout",
     "output_type": "stream",
     "text": [
      "11756\n"
     ]
    }
   ],
   "source": [
    "file = open(\"input.txt\", \"r\")\n",
    "contents = file.read().split(\"\\n\")\n",
    "rounds = [x.split(\" \") for x in contents]\n",
    "\n",
    "def eval_match(match):\n",
    "    condition = match[1]\n",
    "    if condition == 'X':\n",
    "        return 0\n",
    "    if condition == 'Y':\n",
    "        return 3\n",
    "    return 6\n",
    "\n",
    "def your_pick(match):\n",
    "    condition_dict = {\n",
    "        'X': -1,\n",
    "        'Y': 0,\n",
    "        'Z': 1\n",
    "    }\n",
    "    opponent_dict = {\n",
    "        'A': 0,\n",
    "        'B': 1,\n",
    "        'C': 2\n",
    "    }\n",
    "    pick = [1, 2, 3]\n",
    "    opponent = opponent_dict[match[0]]\n",
    "    condition = condition_dict[match[1]]\n",
    "    return(pick[(opponent + condition) % 3])\n",
    "\n",
    "def eval_whole(match):\n",
    "    return your_pick(match) + eval_match(match)\n",
    "\n",
    "score = sum([eval_whole(x) for x in rounds])\n",
    "print(score)\n"
   ]
  }
 ],
 "metadata": {
  "kernelspec": {
   "display_name": "Python 3.9.5 64-bit",
   "language": "python",
   "name": "python3"
  },
  "language_info": {
   "codemirror_mode": {
    "name": "ipython",
    "version": 3
   },
   "file_extension": ".py",
   "mimetype": "text/x-python",
   "name": "python",
   "nbconvert_exporter": "python",
   "pygments_lexer": "ipython3",
   "version": "3.9.5"
  },
  "orig_nbformat": 4,
  "vscode": {
   "interpreter": {
    "hash": "3144ef0d7184a7ccd9d370622ee835c0d83ef03016b270279d28377670007126"
   }
  }
 },
 "nbformat": 4,
 "nbformat_minor": 2
}

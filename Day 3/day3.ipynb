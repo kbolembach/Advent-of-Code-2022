{
 "cells": [
  {
   "cell_type": "markdown",
   "metadata": {},
   "source": [
    "Lowercase item types a through z have priorities 1 through 26.\n",
    "\n",
    "Uppercase item types A through Z have priorities 27 through 52."
   ]
  },
  {
   "cell_type": "code",
   "execution_count": 51,
   "metadata": {},
   "outputs": [
    {
     "name": "stdout",
     "output_type": "stream",
     "text": [
      "7553\n"
     ]
    }
   ],
   "source": [
    "file = open(\"input.txt\", \"r\")\n",
    "contents = file.read().split(\"\\n\")\n",
    "def letter(x):\n",
    "    first = x[:len(x)//2]\n",
    "    second = x[len(x)//2:]\n",
    "    # print(\"first: \", first, \"\\nsecond: \", second)\n",
    "    intersection = set(first).intersection(set(second))\n",
    "    letter = intersection.pop()\n",
    "    # print(\"intersection: \", intersection, \"\\nletter: \", letter, \"\\npriority: \", letter_to_priority(letter), \"\\n\")\n",
    "    return letter\n",
    "\n",
    "def letter_to_priority(x):\n",
    "    letter = ord(x)\n",
    "    if letter >= 65 and letter <= 90:\n",
    "        return letter - 65 + 27\n",
    "    if letter >= 97 and letter <= 122:\n",
    "        return letter - 97 + 1\n",
    "    print(\"zjebało sie\")\n",
    "    return -100000\n",
    "\n",
    "def find_priority(x):\n",
    "    return letter_to_priority(letter(x))\n",
    "\n",
    "result = sum([find_priority(x) for x in contents])\n",
    "print(result)\n"
   ]
  },
  {
   "cell_type": "markdown",
   "metadata": {},
   "source": [
    "Find the item type that corresponds to the badges of each three-Elf group. What is the sum of the priorities of those item types?"
   ]
  },
  {
   "cell_type": "code",
   "execution_count": 53,
   "metadata": {},
   "outputs": [
    {
     "name": "stdout",
     "output_type": "stream",
     "text": [
      "2758\n"
     ]
    }
   ],
   "source": [
    "file = open(\"input.txt\", \"r\")\n",
    "contents = file.read().split(\"\\n\")\n",
    "\n",
    "def letter_to_priority(x):\n",
    "    letter = ord(x)\n",
    "    if letter >= 65 and letter <= 90:\n",
    "        return letter - 65 + 27\n",
    "    if letter >= 97 and letter <= 122:\n",
    "        return letter - 97 + 1\n",
    "    print(\"zjebało sie\")\n",
    "    return -100000\n",
    "\n",
    "letters = []\n",
    "for i in range(0, len(contents)-1, 3):\n",
    "    letter = set(contents[i]) & set(contents[i+1]) & set(contents[i+2])\n",
    "    letters.append(letter.pop())\n",
    "\n",
    "result = sum([letter_to_priority(x) for x in letters])\n",
    "print(result)\n"
   ]
  }
 ],
 "metadata": {
  "kernelspec": {
   "display_name": "Python 3.9.5 64-bit",
   "language": "python",
   "name": "python3"
  },
  "language_info": {
   "codemirror_mode": {
    "name": "ipython",
    "version": 3
   },
   "file_extension": ".py",
   "mimetype": "text/x-python",
   "name": "python",
   "nbconvert_exporter": "python",
   "pygments_lexer": "ipython3",
   "version": "3.9.5"
  },
  "orig_nbformat": 4,
  "vscode": {
   "interpreter": {
    "hash": "3144ef0d7184a7ccd9d370622ee835c0d83ef03016b270279d28377670007126"
   }
  }
 },
 "nbformat": 4,
 "nbformat_minor": 2
}

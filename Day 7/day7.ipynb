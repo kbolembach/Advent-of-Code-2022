{
 "cells": [
  {
   "cell_type": "markdown",
   "metadata": {},
   "source": [
    "# Day 7\n",
    "\n",
    "## Part 1\n",
    "\n",
    "To begin, find all of the directories with a total size of at most 100000, then calculate the sum of their total sizes. In the example above, these directories are a and e; the sum of their total sizes is 95437 (94853 + 584). (As in this example, this process can count files more than once!)\n",
    "\n",
    "Find all of the directories with a total size of at most 100000. What is the sum of the total sizes of those directories?"
   ]
  },
  {
   "cell_type": "code",
   "execution_count": 19,
   "metadata": {},
   "outputs": [
    {
     "name": "stdout",
     "output_type": "stream",
     "text": [
      "1517599\n"
     ]
    }
   ],
   "source": [
    "from anytree import Node, RenderTree, PreOrderIter\n",
    "\n",
    "file = open(\"input.txt\", \"r\")\n",
    "contents = file.read().split(\"\\n\")\n",
    "\n",
    "main = Node(\"/\")\n",
    "current_node = main\n",
    "\n",
    "# load tree from input\n",
    "for line in contents:\n",
    "    if line.startswith(\"$\"):\n",
    "        if line == \"$ cd /\":\n",
    "            current_node = main\n",
    "        if line == \"$ cd ..\":\n",
    "            current_node = current_node.parent\n",
    "        elif line.startswith(\"$ cd \"):\n",
    "            new_folder = Node(line[5:], parent = current_node)\n",
    "            current_node = new_folder\n",
    "    else:\n",
    "        if line.startswith(\"dir \"):\n",
    "            new_folder = Node(line[4:], parent = current_node)\n",
    "        else:\n",
    "            new_file = Node(\"file \" + line.split(\" \")[0], parent = current_node)\n",
    "\n",
    "def get_filesize_per_node(node: Node):\n",
    "    size = sum([int(child.name.split(\" \")[1]) for child in node.children if child.name.startswith(\"file \")])\n",
    "    children = [child for child in node.children if not child.name.startswith(\"file \")]\n",
    "    children_sizes = 0\n",
    "    children_sizes += sum([get_filesize_per_node(child) for child in children])\n",
    "    return size + children_sizes\n",
    "\n",
    "threshold = 100000\n",
    "\n",
    "def get_filesize_with_threshold(main: Node, threshold: int):\n",
    "    nodes = [node for node in PreOrderIter(main) if not node.name.startswith(\"file\")]\n",
    "    sizes = [get_filesize_per_node(node) for node in nodes]\n",
    "    sizes_filtered = [size for size in sizes if size <= threshold]\n",
    "    return sum(sizes_filtered)\n",
    "\n",
    "print(get_filesize_with_threshold(main, threshold))\n",
    "\n"
   ]
  },
  {
   "cell_type": "markdown",
   "metadata": {},
   "source": [
    "## Part 2\n",
    "\n",
    "Now, you're ready to choose a directory to delete.\n",
    "\n",
    "The total disk space available to the filesystem is 70000000. To run the update, you need unused space of at least 30000000. You need to find a directory you can delete that will free up enough space to run the update.\n",
    "\n",
    "In the example above, the total size of the outermost directory (and thus the total amount of used space) is 48381165; this means that the size of the unused space must currently be 21618835, which isn't quite the 30000000 required by the update. Therefore, the update still requires a directory with total size of at least 8381165 to be deleted before it can run.\n",
    "\n",
    "To achieve this, you have the following options:\n",
    "\n",
    "Delete directory e, which would increase unused space by 584.\n",
    "Delete directory a, which would increase unused space by 94853.\n",
    "Delete directory d, which would increase unused space by 24933642.\n",
    "Delete directory /, which would increase unused space by 48381165.\n",
    "Directories e and a are both too small; deleting them would not free up enough space. However, directories d and / are both big enough! Between these, choose the smallest: d, increasing unused space by 24933642.\n",
    "\n",
    "Find the smallest directory that, if deleted, would free up enough space on the filesystem to run the update. What is the total size of that directory?"
   ]
  },
  {
   "cell_type": "code",
   "execution_count": 20,
   "metadata": {},
   "outputs": [
    {
     "name": "stdout",
     "output_type": "stream",
     "text": [
      "2481982\n"
     ]
    }
   ],
   "source": [
    "from anytree import Node, RenderTree, PreOrderIter\n",
    "\n",
    "file = open(\"input.txt\", \"r\")\n",
    "contents = file.read().split(\"\\n\")\n",
    "\n",
    "main = Node(\"/\")\n",
    "current_node = main\n",
    "ls_flag = False\n",
    "\n",
    "# load tree from input\n",
    "for line in contents:\n",
    "    if line.startswith(\"$\"):\n",
    "        if line == \"$ cd /\":\n",
    "            current_node = main\n",
    "        if line == \"$ cd ..\":\n",
    "            current_node = current_node.parent\n",
    "        elif line.startswith(\"$ cd \"):\n",
    "            new_folder = Node(line[5:], parent = current_node)\n",
    "            current_node = new_folder\n",
    "    else:\n",
    "        if line.startswith(\"dir \"):\n",
    "            new_folder = Node(line[4:], parent = current_node)\n",
    "        else:\n",
    "            new_file = Node(\"file \" + line.split(\" \")[0], parent = current_node)\n",
    "\n",
    "def get_filesize_per_node(node: Node):\n",
    "    size = sum([int(child.name.split(\" \")[1]) for child in node.children if child.name.startswith(\"file \")])\n",
    "    children = [child for child in node.children if not child.name.startswith(\"file \")]\n",
    "    children_sizes = 0\n",
    "    children_sizes += sum([get_filesize_per_node(child) for child in children])\n",
    "    return size + children_sizes\n",
    "\n",
    "total_size = 70000000\n",
    "size_target = 30000000\n",
    "current_size = get_filesize_per_node(main)\n",
    "threshold = current_size + size_target - total_size\n",
    "\n",
    "def get_smallest_folder_size(main: Node, threshold: int):\n",
    "    nodes = [node for node in PreOrderIter(main) if not node.name.startswith(\"file\")]\n",
    "    sizes = [get_filesize_per_node(node) for node in nodes]\n",
    "    sizes_filtered = [size for size in sizes if size >= threshold]\n",
    "    return min(sizes_filtered)\n",
    "\n",
    "print(get_smallest_folder_size(main, threshold))"
   ]
  }
 ],
 "metadata": {
  "kernelspec": {
   "display_name": "Python 3.9.5 64-bit",
   "language": "python",
   "name": "python3"
  },
  "language_info": {
   "codemirror_mode": {
    "name": "ipython",
    "version": 3
   },
   "file_extension": ".py",
   "mimetype": "text/x-python",
   "name": "python",
   "nbconvert_exporter": "python",
   "pygments_lexer": "ipython3",
   "version": "3.9.5"
  },
  "orig_nbformat": 4,
  "vscode": {
   "interpreter": {
    "hash": "3144ef0d7184a7ccd9d370622ee835c0d83ef03016b270279d28377670007126"
   }
  }
 },
 "nbformat": 4,
 "nbformat_minor": 2
}

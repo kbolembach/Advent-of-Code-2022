{
 "cells": [
  {
   "cell_type": "markdown",
   "metadata": {},
   "source": [
    "Day 1"
   ]
  },
  {
   "cell_type": "code",
   "execution_count": 2,
   "metadata": {},
   "outputs": [
    {
     "name": "stdout",
     "output_type": "stream",
     "text": [
      "150 69912\n",
      "208180\n"
     ]
    }
   ],
   "source": [
    "import numpy as np\n",
    "\n",
    "file = open(\"input.txt\", \"r\")\n",
    "contents = file.read()\n",
    "contents = contents.split(\"\\n\\n\")\n",
    "values = []\n",
    "for data in contents:\n",
    "    current_val = data.split('\\n')\n",
    "    values.append(sum([int(x) for x in current_val]))\n",
    "print(np.argmax(values), values[np.argmax(values)])\n",
    "\n",
    "max1 = values[np.argmax(values)]\n",
    "values.remove(max1)\n",
    "max2 = values[np.argmax(values)]\n",
    "values.remove(max2)\n",
    "max3 = values[np.argmax(values)]\n",
    "values.remove(max3)\n",
    "\n",
    "sum = max1 + max2 + max3\n",
    "print(sum)"
   ]
  }
 ],
 "metadata": {
  "kernelspec": {
   "display_name": "Python 3.9.5 64-bit",
   "language": "python",
   "name": "python3"
  },
  "language_info": {
   "codemirror_mode": {
    "name": "ipython",
    "version": 3
   },
   "file_extension": ".py",
   "mimetype": "text/x-python",
   "name": "python",
   "nbconvert_exporter": "python",
   "pygments_lexer": "ipython3",
   "version": "3.9.5"
  },
  "orig_nbformat": 4,
  "vscode": {
   "interpreter": {
    "hash": "3144ef0d7184a7ccd9d370622ee835c0d83ef03016b270279d28377670007126"
   }
  }
 },
 "nbformat": 4,
 "nbformat_minor": 2
}

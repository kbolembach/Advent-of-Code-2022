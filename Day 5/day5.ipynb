{
 "cells": [
  {
   "cell_type": "markdown",
   "metadata": {},
   "source": [
    "part 1: move crates one by one\n",
    "...\n",
    "\n",
    "[T] [W] [N] [R] [F] [R] [B] [J] [P]\n",
    "\n",
    "[Z] [G] [J] [J] [W] [S] [H] [S] [G]\n",
    "\n",
    " 1      2       3       4       5       6      7       8       9 \n",
    "\n",
    "\n",
    "\n",
    "move 1 from 5 to 2\n",
    "\n",
    "move 7 from 7 to 1\n",
    "\n",
    "move 1 from 1 to 7\n",
    "\n",
    "move 1 from 4 to 1\n",
    "\n",
    "move 7 from 9 to 1\n",
    "..."
   ]
  },
  {
   "cell_type": "code",
   "execution_count": 16,
   "metadata": {},
   "outputs": [
    {
     "name": "stdout",
     "output_type": "stream",
     "text": [
      "CWMTGHBDW\n"
     ]
    }
   ],
   "source": [
    "from collections import deque\n",
    "\n",
    "file = open(\"input.txt\", \"r\")\n",
    "contents = file.read().split(\"\\n\")\n",
    "\n",
    "def get_stacks_sizes(contents):\n",
    "    max_stack_height = -1\n",
    "    for line in contents:\n",
    "        max_stack_height += 1\n",
    "        if line[0:2] == \" 1\":\n",
    "            len_stacks = int([x for x in line.split(\" \") if x != ''][-1])\n",
    "            return len_stacks, max_stack_height\n",
    "    print(\"No crate sizes found\") \n",
    "    return -1, -1\n",
    "\n",
    "#i'th letter is at 1, 5, 9... so 1 + 4i\n",
    "def initialize_stacks(contents_crates, len_stacks):\n",
    "    stacks = [deque() for _ in range(len_stacks)]\n",
    "    for line in reversed(contents_crates):\n",
    "        for i in range(len_stacks):\n",
    "            if len(line) < 4*i + 1:\n",
    "                break\n",
    "            if line[4*i + 1] == ' ':\n",
    "                continue\n",
    "            stacks[i].append(line[4*i + 1]) \n",
    "    return stacks\n",
    "\n",
    "def execute_instruction(instruction, stacks):\n",
    "    instruction = instruction.split(\" \")\n",
    "    multiplicity, origin, destination = int(instruction[1]), int(instruction[3]) - 1, int(instruction[5]) - 1\n",
    "    for _ in range(multiplicity):\n",
    "        crate = stacks[origin].pop()\n",
    "        stacks[destination].append(crate)\n",
    "    return stacks\n",
    "\n",
    "len_stacks, max_stack_height = get_stacks_sizes(contents)\n",
    "stacks = initialize_stacks(contents[0:max_stack_height], len_stacks)\n",
    "for i in range(max_stack_height + 2, len(contents)):\n",
    "    stacks = execute_instruction(contents[i], stacks)\n",
    "\n",
    "print(\"\".join([str(crate.pop()) for crate in stacks]))\n",
    "\n",
    "\n"
   ]
  },
  {
   "cell_type": "markdown",
   "metadata": {},
   "source": [
    "Part 2: move crates all at once"
   ]
  },
  {
   "cell_type": "code",
   "execution_count": 19,
   "metadata": {},
   "outputs": [
    {
     "name": "stdout",
     "output_type": "stream",
     "text": [
      "SSCGWJCRB\n"
     ]
    }
   ],
   "source": [
    "from collections import deque\n",
    "\n",
    "file = open(\"input.txt\", \"r\")\n",
    "contents = file.read().split(\"\\n\")\n",
    "\n",
    "def get_stacks_sizes(contents):\n",
    "    max_stack_height = -1\n",
    "    for line in contents:\n",
    "        max_stack_height += 1\n",
    "        if line[0:2] == \" 1\":\n",
    "            len_stacks = int([x for x in line.split(\" \") if x != ''][-1])\n",
    "            return len_stacks, max_stack_height\n",
    "    print(\"No crate sizes found\") \n",
    "    return -1, -1\n",
    "\n",
    "#i'th letter is at 1, 5, 9... so 1 + 4i\n",
    "def initialize_stacks(contents_crates, len_stacks):\n",
    "    stacks = [deque() for _ in range(len_stacks)]\n",
    "    for line in reversed(contents_crates):\n",
    "        for i in range(len_stacks):\n",
    "            if len(line) < 4*i + 1:\n",
    "                break\n",
    "            if line[4*i + 1] == ' ':\n",
    "                continue\n",
    "            stacks[i].append(line[4*i + 1]) \n",
    "    return stacks\n",
    "\n",
    "def execute_instruction(instruction, stacks):\n",
    "    instruction = instruction.split(\" \")\n",
    "    multiplicity, origin, destination = int(instruction[1]), int(instruction[3]) - 1, int(instruction[5]) - 1\n",
    "    temp = deque()\n",
    "    for _ in range(multiplicity):\n",
    "        crate = stacks[origin].pop()\n",
    "        temp.appendleft(crate)\n",
    "    stacks[destination].extend(temp)\n",
    "    return stacks\n",
    "\n",
    "len_stacks, max_stack_height = get_stacks_sizes(contents)\n",
    "stacks = initialize_stacks(contents[0:max_stack_height], len_stacks)\n",
    "for i in range(max_stack_height + 2, len(contents)):\n",
    "    stacks = execute_instruction(contents[i], stacks)\n",
    "\n",
    "print(\"\".join([str(crate.pop()) for crate in stacks]))\n",
    "\n"
   ]
  }
 ],
 "metadata": {
  "kernelspec": {
   "display_name": "Python 3.9.5 64-bit",
   "language": "python",
   "name": "python3"
  },
  "language_info": {
   "codemirror_mode": {
    "name": "ipython",
    "version": 3
   },
   "file_extension": ".py",
   "mimetype": "text/x-python",
   "name": "python",
   "nbconvert_exporter": "python",
   "pygments_lexer": "ipython3",
   "version": "3.9.5"
  },
  "orig_nbformat": 4,
  "vscode": {
   "interpreter": {
    "hash": "3144ef0d7184a7ccd9d370622ee835c0d83ef03016b270279d28377670007126"
   }
  }
 },
 "nbformat": 4,
 "nbformat_minor": 2
}
